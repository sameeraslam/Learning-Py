{
 "cells": [
  {
   "cell_type": "markdown",
   "metadata": {},
   "source": [
    "## Revison of 4TH May 2019 class - PIAIC 12.15-3.15PM"
   ]
  },
  {
   "cell_type": "code",
   "execution_count": 9,
   "metadata": {},
   "outputs": [
    {
     "name": "stdout",
     "output_type": "stream",
     "text": [
      "Hello\n",
      "Testing single commas\n",
      "Testing commas print\n"
     ]
    }
   ],
   "source": [
    "print (\"Hello\")\n",
    "\n",
    "# Print hello requires double commas around the string\n",
    "# Hello is string\n",
    "\n",
    "# Also note that single commas can be used\n",
    "print ('Testing single commas')\n",
    "\n",
    "# Lets try printing commas too\n",
    "print (\"\"\"Testing commas print\"\"\")\n",
    "# it appears this wont work\n"
   ]
  },
  {
   "cell_type": "code",
   "execution_count": 3,
   "metadata": {},
   "outputs": [
    {
     "name": "stdout",
     "output_type": "stream",
     "text": [
      "46\n"
     ]
    }
   ],
   "source": [
    "print(46) # this is a whole number - integer"
   ]
  },
  {
   "cell_type": "code",
   "execution_count": 4,
   "metadata": {},
   "outputs": [
    {
     "name": "stdout",
     "output_type": "stream",
     "text": [
      "3.1416\n"
     ]
    }
   ],
   "source": [
    "print(3.1416) # this is a float"
   ]
  },
  {
   "cell_type": "code",
   "execution_count": 5,
   "metadata": {},
   "outputs": [
    {
     "name": "stdout",
     "output_type": "stream",
     "text": [
      "34\n",
      "This is an example of str\n",
      "22.77\n"
     ]
    }
   ],
   "source": [
    "# Thus\n",
    "\n",
    "print(34) # integer\n",
    "print(\"This is an example of str\") # string - str\n",
    "print(22.77) # float"
   ]
  },
  {
   "cell_type": "code",
   "execution_count": 19,
   "metadata": {},
   "outputs": [
    {
     "name": "stdout",
     "output_type": "stream",
     "text": [
      "34 32.1234 Sky is Blue!\n",
      "34 | flimsy flame | doeremon | 453.113\n"
     ]
    }
   ],
   "source": [
    "# lets test printing multiple statements\n",
    "print (34, 32.1234,\"Sky is Blue!\")\n",
    "\n",
    "# But to write this down with seperation - use sep='x' where x is seperation content\n",
    "print (34,\"flimsy flame\", \"doeremon\",453.113, sep=' | ')"
   ]
  },
  {
   "cell_type": "code",
   "execution_count": 38,
   "metadata": {},
   "outputs": [
    {
     "name": "stdout",
     "output_type": "stream",
     "text": [
      "Hello PIAIC\n",
      "Hello PIAIC\n",
      "Hello PIAIC\tHello PIAIC\n",
      "one \t two \n",
      " seven\n"
     ]
    }
   ],
   "source": [
    "print (\"Hello PIAIC\")\n",
    "print (\"Hello PIAIC\")\n",
    "print (\"Hello PIAIC\", end=\"\\t\")\n",
    "print (\"Hello PIAIC\")\n",
    "\n",
    "print (\"one \\t two \\n seven\")\n",
    "\n",
    "# GOES TO NEW LINE BECAUSE OF DEFAULTS OF /n - newline in docstring syntax"
   ]
  },
  {
   "cell_type": "code",
   "execution_count": 42,
   "metadata": {},
   "outputs": [
    {
     "name": "stdout",
     "output_type": "stream",
     "text": [
      "apple\torange\n"
     ]
    }
   ],
   "source": [
    "print('apple\\torange')\n",
    "\n"
   ]
  },
  {
   "cell_type": "code",
   "execution_count": 44,
   "metadata": {},
   "outputs": [
    {
     "name": "stdout",
     "output_type": "stream",
     "text": [
      "12\n",
      "5.0\n"
     ]
    }
   ],
   "source": [
    "# Py uses BODMAS\n",
    "print (8+4)\n",
    "print (8/2+1)"
   ]
  },
  {
   "cell_type": "code",
   "execution_count": 50,
   "metadata": {},
   "outputs": [
    {
     "name": "stdout",
     "output_type": "stream",
     "text": [
      "2testing\n",
      "1002\n"
     ]
    },
    {
     "ename": "TypeError",
     "evalue": "unsupported operand type(s) for +: 'int' and 'str'",
     "output_type": "error",
     "traceback": [
      "\u001b[1;31m---------------------------------------------------------------------------\u001b[0m",
      "\u001b[1;31mTypeError\u001b[0m                                 Traceback (most recent call last)",
      "\u001b[1;32m<ipython-input-50-08a6637ff207>\u001b[0m in \u001b[0;36m<module>\u001b[1;34m\u001b[0m\n\u001b[0;32m      9\u001b[0m \u001b[1;33m\u001b[0m\u001b[0m\n\u001b[0;32m     10\u001b[0m \u001b[1;31m# but you cant def int as a str\u001b[0m\u001b[1;33m\u001b[0m\u001b[1;33m\u001b[0m\u001b[1;33m\u001b[0m\u001b[0m\n\u001b[1;32m---> 11\u001b[1;33m \u001b[0mprint\u001b[0m\u001b[1;33m(\u001b[0m\u001b[1;36m2\u001b[0m\u001b[1;33m+\u001b[0m\u001b[0mstr\u001b[0m\u001b[1;33m(\u001b[0m\u001b[1;34m\"1000\"\u001b[0m\u001b[1;33m)\u001b[0m\u001b[1;33m)\u001b[0m\u001b[1;33m\u001b[0m\u001b[1;33m\u001b[0m\u001b[0m\n\u001b[0m",
      "\u001b[1;31mTypeError\u001b[0m: unsupported operand type(s) for +: 'int' and 'str'"
     ]
    }
   ],
   "source": [
    "# Now\n",
    "# print(2+\"strsw\") wont work because both the types are different\n",
    "# so the types need to be same for concatinating\n",
    "# Thus\n",
    "print(str(2)+\"testing\")\n",
    "# Here we didnt add, but joined after def 2 as a str\n",
    "\n",
    "print(2+int(\"1000\")) # works\n",
    "\n",
    "# but you cant def int as a str\n",
    "print(2+str(\"1000\"))"
   ]
  },
  {
   "cell_type": "code",
   "execution_count": null,
   "metadata": {},
   "outputs": [],
   "source": []
  }
 ],
 "metadata": {
  "kernelspec": {
   "display_name": "Python 3",
   "language": "python",
   "name": "python3"
  },
  "language_info": {
   "codemirror_mode": {
    "name": "ipython",
    "version": 3
   },
   "file_extension": ".py",
   "mimetype": "text/x-python",
   "name": "python",
   "nbconvert_exporter": "python",
   "pygments_lexer": "ipython3",
   "version": "3.7.3"
  }
 },
 "nbformat": 4,
 "nbformat_minor": 2
}
